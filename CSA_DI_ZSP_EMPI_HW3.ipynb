{
 "cells": [
  {
   "cell_type": "code",
   "execution_count": 1,
   "metadata": {},
   "outputs": [],
   "source": [
    "import gzip\n",
    "import shutil\n",
    "import pandas as pd\n",
    "import numpy as np\n",
    "import random\n",
    "from tqdm import tqdm\n",
    "import networkx as nx"
   ]
  },
  {
   "cell_type": "markdown",
   "metadata": {},
   "source": [
    "#### convert txt.gz to txt"
   ]
  },
  {
   "cell_type": "code",
   "execution_count": 2,
   "metadata": {},
   "outputs": [],
   "source": [
    "\n",
    "#with gzip.open('soc-pokec-profiles.txt.gz', 'rb') as f_in:\n",
    "#    with open('soc-pokec-profiles.txt', 'wb') as f_out:\n",
    "#        shutil.copyfileobj(f_in, f_out)\n",
    "        \n",
    "#with gzip.open('soc-pokec-relationships.txt.gz', 'rb') as f_in:\n",
    "#    with open('soc-pokec-relationships.txt', 'wb') as f_out:\n",
    "#        shutil.copyfileobj(f_in, f_out)"
   ]
  },
  {
   "cell_type": "markdown",
   "metadata": {},
   "source": [
    "##### Ide bemasoltam András a tőled kapott kódrészleteket"
   ]
  },
  {
   "cell_type": "code",
   "execution_count": 3,
   "metadata": {},
   "outputs": [],
   "source": [
    "\"\"\"Functions to load and filter the network\"\"\"\n",
    "\n",
    "import pandas as pd\n",
    "import numpy as np\n",
    "\n",
    "# notice that  I use all caps for module level strings\n",
    "# it may be nicer to export this to a csv, but life is sometimes too short to be tidy\n",
    "COLUMNS_STR = \"\"\"    user_id\n",
    "    public\n",
    "    completion_percentage\n",
    "    gender\n",
    "    region\n",
    "    last_login\n",
    "    registration\n",
    "    AGE\n",
    "    body\n",
    "    I_am_working_in_field\n",
    "    spoken_languages\n",
    "    hobbies\n",
    "    I_most_enjoy_good_food\n",
    "    pets\n",
    "    body_type\n",
    "    my_eyesight\n",
    "    eye_color\n",
    "    hair_color\n",
    "    hair_type\n",
    "    completed_level_of_education\n",
    "    favourite_color\n",
    "    relation_to_smoking\n",
    "    relation_to_alcohol\n",
    "    sign_in_zodiac\n",
    "    on_pokec_i_am_looking_for\n",
    "    love_is_for_me\n",
    "    relation_to_casual_sex\n",
    "    my_partner_should_be\n",
    "    marital_status\n",
    "    children\n",
    "    relation_to_children\n",
    "    I_like_movies\n",
    "    I_like_watching_movie\n",
    "    I_like_music\n",
    "    I_mostly_like_listening_to_music\n",
    "    the_idea_of_good_evening\n",
    "    I_like_specialties_from_kitchen\n",
    "    fun\n",
    "    I_am_going_to_concerts\n",
    "    my_active_sports\n",
    "    my_passive_sports\n",
    "    profession\n",
    "    I_like_books\n",
    "    life_style\n",
    "    music\n",
    "    cars\n",
    "    politics\n",
    "    relationships\n",
    "    art_culture\n",
    "    hobbies_interests\n",
    "    science_technologies\n",
    "    computers_internet\n",
    "    education\n",
    "    sport\n",
    "    movies\n",
    "    travelling\n",
    "    health\n",
    "    companies_brands\n",
    "    more\"\"\"\n",
    "COLUMNS_LIST = [col.strip() for col in COLUMNS_STR.split(\"\\n\")]\n",
    "\n",
    "# reproducibility matters!\n",
    "np.random.seed(42)\n",
    "\n",
    "\n",
    "def select_relevant_profiles(all_profiles):\n",
    "    \"\"\"Select relevant profiles\n",
    "    criteria:\n",
    "    * is public\n",
    "    * region is selected region\n",
    "    * AGE specified\n",
    "    * GENDER SPECIFIED\n",
    "    \"\"\"\n",
    "    public_condition = all_profiles[\"public\"] == 1\n",
    "    age_condition = all_profiles[\"AGE\"] > 14\n",
    "    gender_condition = all_profiles[\"gender\"].isin([0, 1])\n",
    "    return all_profiles.loc[public_condition & age_condition & gender_condition]\n",
    "\n",
    "\n",
    "def select_relevant_edges(all_edges, selected_ids):\n",
    "    \"\"\"Select relevant edges for those profiles that are relevant\"\"\"\n",
    "    source_condition = all_edges[\"source\"].isin(selected_ids)\n",
    "    sink_condition = all_edges[\"sink\"].isin(selected_ids)\n",
    "    return all_edges.loc[source_condition & sink_condition]\n",
    "\n",
    "\n",
    "def convert_edges_to_undirected(edges):\n",
    "    \"\"\"Convert edges to undirected, and keep only mutual connections\"\"\"\n",
    "    undirected_edges = (\n",
    "        edges.assign(\n",
    "            smaller_id=lambda df: df[[\"source\", \"sink\"]].min(axis=1),\n",
    "            greater_id=lambda df: df[[\"source\", \"sink\"]].max(axis=1),\n",
    "        )\n",
    "        .groupby([\"smaller_id\", \"greater_id\"])\n",
    "        .agg({\"source\": \"count\"})\n",
    "    )\n",
    "    print(undirected_edges[\"source\"].value_counts())\n",
    "    return (\n",
    "        undirected_edges.loc[undirected_edges[\"source\"] == 2]\n",
    "        .drop(\"source\", axis=1)\n",
    "        .reset_index()\n",
    "    )\n",
    "\n",
    "\n",
    "def load_and_select_profiles_and_edges():\n",
    "    \"\"\"load and select relevant profiles, then filter and undirect edges\"\"\"\n",
    "    print(\"loading profiles\")\n",
    "    # TODO: Add some functionality to only read a subset of the data!\n",
    "    profiles = pd.read_csv(\n",
    "        \"soc-pokec-profiles.txt\",\n",
    "        sep=\"\\t\",\n",
    "        names=COLUMNS_LIST,\n",
    "        index_col=False,\n",
    "        usecols=[\"user_id\", \"public\", \"gender\", \"region\", \"AGE\"],\n",
    "    )\n",
    "    print(\"loading edges\")\n",
    "    edges = pd.read_csv(\n",
    "        \"soc-pokec-relationships.txt\", sep=\"\\t\", names=[\"source\", \"sink\"]\n",
    "    )\n",
    "    selected_profiles = select_relevant_profiles(profiles)\n",
    "    selected_ids = selected_profiles[\"user_id\"].unique()\n",
    "    selected_edges = select_relevant_edges(edges, selected_ids)\n",
    "\n",
    "    undirected_edges = convert_edges_to_undirected(selected_edges)\n",
    "    nodes_with_edges = set(undirected_edges[\"smaller_id\"].unique()).union(\n",
    "        undirected_edges[\"greater_id\"].unique()\n",
    "    )\n",
    "    print(f\"Selected profiles: {len(selected_profiles)}\")\n",
    "    print(f\"Nodes with edges: {len(nodes_with_edges)}\")\n",
    "    selected_profiles = selected_profiles[\n",
    "        selected_profiles[\"user_id\"].isin(nodes_with_edges)\n",
    "    ]\n",
    "    selected_profiles[\"AGE\"] = selected_profiles[\"AGE\"].clip(upper=50)\n",
    "    selected_profiles = remove_test_set_gender_and_age(selected_profiles)\n",
    "    return selected_profiles, undirected_edges\n",
    "\n",
    "\n",
    "def remove_test_set_gender_and_age(nodes):\n",
    "    \"\"\"Remove the gender feature from a subset of the nodes for estimation\"\"\"\n",
    "    # todo: the 40k  random can be adjusted if youre working with a subset\n",
    "    test_profiles = np.random.choice(nodes[\"user_id\"].unique(), 264211, replace=False)\n",
    "    nodes[\"TRAIN_TEST\"] = \"TRAIN\"\n",
    "    test_condition = nodes[\"user_id\"].isin(test_profiles)\n",
    "    nodes.loc[test_condition, [\"AGE\", \"gender\"]] = np.nan\n",
    "    nodes.loc[test_condition, [\"TRAIN_TEST\"]] = \"TEST\"\n",
    "\n",
    "    return nodes\n",
    "\n",
    "\"\"\"Visualization function examples for the homework project\"\"\"\n",
    "\n",
    "import pandas as pd\n",
    "import numpy as np\n",
    "import matplotlib.pyplot as plt\n",
    "import seaborn as sns\n",
    "\n",
    "\n",
    "def plot_degree_distribution(G):\n",
    "    \"\"\"Plot a degree distribution of a graph\n",
    "    TODO: log-log binning! To understand this better, check out networksciencebook.com\n",
    "    \"\"\"\n",
    "    plot_df = (\n",
    "        pd.Series(dict(G.degree)).value_counts().sort_index().to_frame().reset_index()\n",
    "    )\n",
    "    plot_df.columns = [\"k\", \"count\"]\n",
    "    plot_df[\"log_k\"] = np.log(plot_df[\"k\"])\n",
    "    plot_df[\"log_count\"] = np.log(plot_df[\"count\"])\n",
    "    fig, ax = plt.subplots()\n",
    "\n",
    "    ax.scatter(plot_df[\"k\"], plot_df[\"count\"])\n",
    "    ax.set_xscale(\"log\")\n",
    "    ax.set_yscale(\"log\")\n",
    "    fig.suptitle(\"Mutual Degree Distribution\")\n",
    "    ax.set_xlabel(\"k\")\n",
    "    ax.set_ylabel(\"count_k\")\n",
    "\n",
    "\n",
    "def plot_age_distribution_by_gender(nodes):\n",
    "    \"\"\"Plot a histogram where the color represents gender\"\"\"\n",
    "    plot_df = nodes[[\"AGE\", \"gender\"]].copy(deep=True).astype(float)\n",
    "    plot_df[\"gender\"] = plot_df[\"gender\"].replace({0.0: \"woman\", 1.0: \"man\"})\n",
    "    sns.histplot(data=plot_df, x=\"AGE\", hue=\"gender\", bins=np.arange(0, 45, 5) + 15)\n",
    "\n",
    "\n",
    "def plot_node_degree_by_gender(nodes, G):\n",
    "    \"\"\"Plot the average of node degree across age and gender\"\"\"\n",
    "    # TODO: this could be generalized for different node level statistics as well!\n",
    "    nodes_w_degree = nodes.set_index(\"user_id\").merge(\n",
    "        pd.Series(dict(G.degree)).to_frame(),\n",
    "        how=\"left\",\n",
    "        left_index=True,\n",
    "        right_index=True,\n",
    "    )\n",
    "    nodes_w_degree = nodes_w_degree.rename({0: \"degree\"}, axis=1)\n",
    "    plot_df = (\n",
    "        nodes_w_degree.groupby([\"AGE\", \"gender\"]).agg({\"degree\": \"mean\"}).reset_index()\n",
    "    )\n",
    "    sns.lineplot(data=plot_df, x=\"AGE\", y=\"degree\", hue=\"gender\")\n",
    "\n",
    "\n",
    "def plot_age_relations_heatmap(edges_w_features):\n",
    "    \"\"\"Plot a heatmap that represents the distribution of edges\"\"\"\n",
    "    # TODO: check what happpens without logging\n",
    "    # TODO: instead of logging check what happens if you normalize with the row sum\n",
    "    #  make sure you figure out an interpretation of that as well!\n",
    "    # TODO: separate these charts by gender as well\n",
    "    # TODO: column names could be nicer\n",
    "    plot_df = edges_w_features.groupby([\"gender_x\", \"gender_y\", \"AGE_x\", \"AGE_y\"]).agg(\n",
    "        {\"smaller_id\": \"count\"}\n",
    "    )\n",
    "    plot_df_w_w = plot_df.loc[(0, 0)].reset_index()\n",
    "    plot_df_heatmap = plot_df_w_w.pivot_table(\n",
    "        index=\"AGE_x\", columns=\"AGE_y\", values=\"smaller_id\"\n",
    "    ).fillna(0)\n",
    "    plot_df_heatmap_logged = np.log(plot_df_heatmap + 1)\n",
    "    sns.heatmap(plot_df_heatmap_logged)\n",
    "\n",
    "\"\"\"Functions to manipulate graphs\"\"\"\n",
    "\n",
    "import pandas as pd\n",
    "import networkx as nx\n",
    "import numpy as np\n",
    "\n",
    "\n",
    "def create_graph_from_nodes_and_edges(nodes, edges):\n",
    "    \"\"\"Create a networkx graph object with all relevant features\"\"\"\n",
    "    node_attributes = nodes.set_index(\"user_id\").to_dict(orient=\"index\")\n",
    "    node_attributes_list = [\n",
    "        (index, attr_dict) for index, attr_dict in node_attributes.items()\n",
    "    ]\n",
    "    G = nx.Graph()\n",
    "    G.add_nodes_from(node_attributes_list)\n",
    "    G.add_edges_from(edges.values.tolist())\n",
    "    return G\n",
    "\n",
    "\n",
    "def get_nbrs_for_node(node_id, G):\n",
    "    \"\"\"Return ids of nbrs of node\"\"\"\n",
    "    return list(dict(G[node_id]).keys())\n",
    "\n",
    "\n",
    "def get_features_of_node_list(node_list, node_df):\n",
    "    \"\"\"Return the features of a subset of nodes\"\"\"\n",
    "    return node_df.loc[node_list, [\"AGE\", \"gender\"]].values.tolist()\n",
    "\n",
    "\n",
    "def add_node_features_to_edges(nodes, edges):\n",
    "    \"\"\"Add features of nodes to edges in order to create heatmaps\"\"\"\n",
    "    # TODO: column names could be nicer!\n",
    "    edges_w_features = edges.merge(\n",
    "        nodes[[\"user_id\", \"AGE\", \"gender\"]].set_index(\"user_id\"),\n",
    "        how=\"left\",\n",
    "        left_on=\"smaller_id\",\n",
    "        right_index=True,\n",
    "    )\n",
    "    edges_w_features = edges_w_features.merge(\n",
    "        nodes[[\"user_id\", \"AGE\", \"gender\"]].set_index(\"user_id\"),\n",
    "        how=\"left\",\n",
    "        left_on=\"greater_id\",\n",
    "        right_index=True,\n",
    "    )\n",
    "    return edges_w_features"
   ]
  },
  {
   "cell_type": "code",
   "execution_count": 4,
   "metadata": {},
   "outputs": [
    {
     "name": "stdout",
     "output_type": "stream",
     "text": [
      "loading profiles\n",
      "loading edges\n",
      "1    2642113\n",
      "2    1992414\n",
      "Name: source, dtype: int64\n",
      "Selected profiles: 695406\n",
      "Nodes with edges: 434590\n"
     ]
    }
   ],
   "source": [
    "nodes, edges = load_and_select_profiles_and_edges()"
   ]
  },
  {
   "cell_type": "code",
   "execution_count": 5,
   "metadata": {},
   "outputs": [],
   "source": [
    "G= create_graph_from_nodes_and_edges(nodes, edges)"
   ]
  },
  {
   "cell_type": "code",
   "execution_count": 6,
   "metadata": {},
   "outputs": [
    {
     "data": {
      "image/png": "[encoded data removed]",
      "text/plain": [
       "<Figure size 432x288 with 1 Axes>"
      ]
     },
     "metadata": {
      "needs_background": "light"
     },
     "output_type": "display_data"
    }
   ],
   "source": [
    "plot_degree_distribution(G)"
   ]
  },
  {
   "cell_type": "code",
   "execution_count": 7,
   "metadata": {},
   "outputs": [
    {
     "data": {
      "image/png": "[encoded data removed]",
      "text/plain": [
       "<Figure size 432x288 with 1 Axes>"
      ]
     },
     "metadata": {
      "needs_background": "light"
     },
     "output_type": "display_data"
    }
   ],
   "source": [
    "plot_age_distribution_by_gender(nodes)"
   ]
  },
  {
   "cell_type": "code",
   "execution_count": 8,
   "metadata": {},
   "outputs": [
    {
     "data": {
      "image/png": "[encoded data removed]",
      "text/plain": [
       "<Figure size 432x288 with 1 Axes>"
      ]
     },
     "metadata": {
      "needs_background": "light"
     },
     "output_type": "display_data"
    }
   ],
   "source": [
    "plot_node_degree_by_gender(nodes, G)"
   ]
  },
  {
   "cell_type": "code",
   "execution_count": 9,
   "metadata": {},
   "outputs": [
    {
     "data": {
      "image/png": "[encoded data removed]",
      "text/plain": [
       "<Figure size 432x288 with 2 Axes>"
      ]
     },
     "metadata": {
      "needs_background": "light"
     },
     "output_type": "display_data"
    }
   ],
   "source": [
    "edges_w_features = add_node_features_to_edges(nodes, edges)\n",
    "plot_age_relations_heatmap(edges_w_features)"
   ]
  },
  {
   "cell_type": "code",
   "execution_count": 10,
   "metadata": {},
   "outputs": [],
   "source": [
    "def get_nbrs_for_node(node_id, G):\n",
    "    \"\"\"Return ids of nbrs of node\"\"\"\n",
    "    return list(dict(G[node_id]).keys())"
   ]
  },
  {
   "cell_type": "code",
   "execution_count": 11,
   "metadata": {},
   "outputs": [
    {
     "data": {
      "text/plain": [
       "[1, 308, 309, 310, 313, 315, 316, 318, 319, 322, 325, 331, 332, 334, 336, 339]"
      ]
     },
     "execution_count": 11,
     "metadata": {},
     "output_type": "execute_result"
    }
   ],
   "source": [
    "get_nbrs_for_node(11, G)"
   ]
  },
  {
   "cell_type": "code",
   "execution_count": 12,
   "metadata": {},
   "outputs": [],
   "source": [
    "def plot_age_distribution_by_gender(nodes):\n",
    "    \"\"\"Plot a histogram where the color represents gender\"\"\"\n",
    "    plot_df = nodes[[\"AGE\", \"gender\"]].copy(deep=True).astype(float)\n",
    "    plot_df[\"gender\"] = plot_df[\"gender\"].replace({0.0: \"woman\", 1.0: \"man\"})\n",
    "    sns.histplot(data=plot_df, x=\"AGE\", hue=\"gender\", bins=np.arange(0, 45, 5) + 15)"
   ]
  },
  {
   "cell_type": "code",
   "execution_count": 13,
   "metadata": {},
   "outputs": [
    {
     "data": {
      "image/png": "[encoded data removed]",
      "text/plain": [
       "<Figure size 432x288 with 1 Axes>"
      ]
     },
     "metadata": {
      "needs_background": "light"
     },
     "output_type": "display_data"
    }
   ],
   "source": [
    "plot_age_distribution_by_gender(nodes)"
   ]
  },
  {
   "cell_type": "markdown",
   "metadata": {
    "tags": []
   },
   "source": [
    "# PLOTS"
   ]
  },
  {
   "cell_type": "code",
   "execution_count": 14,
   "metadata": {},
   "outputs": [],
   "source": [
    "def plot_node_degree_by_gender(nodes, G):\n",
    "    \"\"\"Plot the average of node degree across age and gender\"\"\"\n",
    "    # TODO: this could be generalized for different node level statistics as well!\n",
    "    nodes_w_degree = nodes.set_index(\"user_id\").merge(\n",
    "        pd.Series(dict(G.degree)).to_frame(),\n",
    "        how=\"left\",\n",
    "        left_index=True,\n",
    "        right_index=True,\n",
    "    )\n",
    "    nodes_w_degree = nodes_w_degree.rename({0: \"degree\"}, axis=1)\n",
    "    plot_df = (\n",
    "        nodes_w_degree.groupby([\"AGE\", \"gender\"]).agg({\"degree\": \"mean\"}).reset_index()\n",
    "    )\n",
    "    #adding title, and rename the legends\n",
    "    sns.lineplot(data=plot_df, x=\"AGE\", y=\"degree\", hue=\"gender\",  ci=None, palette=['b', 'r'], linewidth=2.5).set_title('Degree centrality')\n",
    "    plt.legend(title='Gender', loc='upper right', labels=['male', 'female'])"
   ]
  },
  {
   "cell_type": "markdown",
   "metadata": {},
   "source": [
    "#### Degree centrality plotting"
   ]
  },
  {
   "cell_type": "code",
   "execution_count": 15,
   "metadata": {},
   "outputs": [
    {
     "data": {
      "image/png": "[encoded data removed]",
      "text/plain": [
       "<Figure size 432x288 with 1 Axes>"
      ]
     },
     "metadata": {
      "needs_background": "light"
     },
     "output_type": "display_data"
    }
   ],
   "source": [
    "plot_node_degree_by_gender(nodes, G)"
   ]
  },
  {
   "cell_type": "markdown",
   "metadata": {},
   "source": [
    "Látható a diagramon, hogy a fiatal férifaknak átlagosan több barátjuk van a Pokec-en, a fiatal nőkhöz képest. Azonban amint elkezd csökkenni a barátok száma (a középkorúaknak egyre kevesebb az átlagos fokszámuk), a nemek közötti különbség eltűnik, mondhatni kisimul 35 éves korig. Utána ismét látható kis növekedés a különbségben a férfiak részére kb 48 éves korig. A \"Inferring User Demographics and Social Strategies in Mobile Social Networks\" cikkhez hasonló mintázat figyelhető meg abban a tekintetben, hogy a 20-as évek elején járóknak van átlagosan a legmagasabb fokszámuk (itt legtöbb ismerősük), és utána folyamatosan csökken az átlagos fokszám."
   ]
  },
  {
   "cell_type": "code",
   "execution_count": 16,
   "metadata": {},
   "outputs": [],
   "source": [
    "nodes_w_degree = nodes.set_index(\"user_id\").merge(\n",
    "        pd.Series(dict(G.degree)).to_frame(),\n",
    "        how=\"left\",\n",
    "        left_index=True,\n",
    "        right_index=True,\n",
    "        )"
   ]
  },
  {
   "cell_type": "code",
   "execution_count": 17,
   "metadata": {},
   "outputs": [],
   "source": [
    "#hozzáadjuk a dataframe-hez a szomszédai átlagos fokszámát\n",
    "nodes_w_degree2 = nodes_w_degree\n",
    "nodes_w_degree2[\"nb_conn\"] = nx.average_neighbor_degree(G).values()\n",
    "nodes_w_degree2[\"cc\"] = nx.clustering(G).values()"
   ]
  },
  {
   "cell_type": "code",
   "execution_count": null,
   "metadata": {},
   "outputs": [],
   "source": []
  },
  {
   "cell_type": "code",
   "execution_count": 18,
   "metadata": {},
   "outputs": [
    {
     "data": {
      "text/plain": [
       "pandas.core.frame.DataFrame"
      ]
     },
     "execution_count": 18,
     "metadata": {},
     "output_type": "execute_result"
    }
   ],
   "source": [
    "type(nodes_w_degree2)"
   ]
  },
  {
   "cell_type": "markdown",
   "metadata": {},
   "source": [
    "#### Neighbor Connectivity plotting"
   ]
  },
  {
   "cell_type": "code",
   "execution_count": 19,
   "metadata": {},
   "outputs": [
    {
     "data": {
      "text/plain": [
       "<matplotlib.legend.Legend at 0x24d93011c60>"
      ]
     },
     "execution_count": 19,
     "metadata": {},
     "output_type": "execute_result"
    },
    {
     "data": {
      "image/png": "[encoded data removed]",
      "text/plain": [
       "<Figure size 432x288 with 1 Axes>"
      ]
     },
     "metadata": {
      "needs_background": "light"
     },
     "output_type": "display_data"
    }
   ],
   "source": [
    "sns.lineplot(data=nodes_w_degree2, x=\"AGE\", y=\"nb_conn\", hue=\"gender\",  ci=None, palette=['b', 'r'], linewidth=2.5).set_title('Neighbor Connectivity')\n",
    "plt.legend(title='Gender', loc='upper right', labels=['male', 'female'])\n"
   ]
  },
  {
   "cell_type": "markdown",
   "metadata": {},
   "source": [
    "Látható, hogy a szomszédok átlagios fokszáma is folyamatosan csökken az életkor növekedésével. A nők esetében magasabb szintről süllyed lefelé, de 35 éves kor felett már elhanyagolható a különbség"
   ]
  },
  {
   "cell_type": "markdown",
   "metadata": {},
   "source": [
    "#### Triadic Closure plotting"
   ]
  },
  {
   "cell_type": "code",
   "execution_count": 20,
   "metadata": {},
   "outputs": [
    {
     "data": {
      "text/plain": [
       "(0.0, 0.3)"
      ]
     },
     "execution_count": 20,
     "metadata": {},
     "output_type": "execute_result"
    },
    {
     "data": {
      "image/png": "[encoded data removed]",
      "text/plain": [
       "<Figure size 432x288 with 1 Axes>"
      ]
     },
     "metadata": {
      "needs_background": "light"
     },
     "output_type": "display_data"
    }
   ],
   "source": [
    "a_plot = sns.lineplot(data=nodes_w_degree2, x=\"AGE\", y=\"cc\", hue=\"gender\", ci=None, palette=['b', 'r'], linewidth=2.5).set_title('Triadic Closure')\n",
    "plt.legend(title='Gender', loc='upper right', labels=['male', 'female'])\n",
    "plt.ylim(0, 0.3)"
   ]
  },
  {
   "cell_type": "markdown",
   "metadata": {},
   "source": [
    "# Strength of social tie"
   ]
  },
  {
   "cell_type": "code",
   "execution_count": 21,
   "metadata": {},
   "outputs": [],
   "source": [
    "def plot_age_relations_heatmap_ff(edges_w_features):\n",
    "    \"\"\"Plot a heatmap that represents the distribution of edges\"\"\"\n",
    "    # TODO: check what happpens without logging\n",
    "    # TODO: instead of logging check what happens if you normalize with the row sum\n",
    "    #  make sure you figure out an interpretation of that as well!\n",
    "    # TODO: separate these charts by gender as well\n",
    "    # TODO: column names could be nicer\n",
    "    plot_df = edges_w_features.groupby([\"gender_x\", \"gender_y\", \"AGE_x\", \"AGE_y\"]).agg(\n",
    "        {\"smaller_id\": \"count\"}\n",
    "    )\n",
    "    #only the f-f edges\n",
    "    plot_df_w_w = plot_df.loc[(0, 0)].reset_index()\n",
    "    plot_df_heatmap = plot_df_w_w.pivot_table(\n",
    "        index=\"AGE_x\", columns=\"AGE_y\", values=\"smaller_id\"\n",
    "    ).fillna(0)\n",
    "    plot_df_heatmap_logged = np.log(plot_df_heatmap + 1)\n",
    "    sns.heatmap(plot_df_heatmap_logged)"
   ]
  },
  {
   "cell_type": "code",
   "execution_count": 22,
   "metadata": {},
   "outputs": [],
   "source": [
    "def plot_age_relations_heatmap_mm(edges_w_features):\n",
    "    \"\"\"Plot a heatmap that represents the distribution of edges\"\"\"\n",
    "\n",
    "    plot_df = edges_w_features.groupby([\"gender_x\", \"gender_y\", \"AGE_x\", \"AGE_y\"]).agg(\n",
    "        {\"smaller_id\": \"count\"}\n",
    "    )\n",
    "    #only the m-m edges\n",
    "    plot_df_m_m = plot_df.loc[(1, 1)].reset_index()\n",
    "    plot_df_heatmap = plot_df_m_m.pivot_table(\n",
    "        index=\"AGE_x\", columns=\"AGE_y\", values=\"smaller_id\"\n",
    "    ).fillna(0)\n",
    "    plot_df_heatmap_logged = np.log(plot_df_heatmap + 1)\n",
    "    sns.heatmap(plot_df_heatmap_logged)"
   ]
  },
  {
   "cell_type": "code",
   "execution_count": 23,
   "metadata": {},
   "outputs": [],
   "source": [
    "def plot_age_relations_heatmap_fm(edges_w_features):\n",
    "    \"\"\"Plot a heatmap that represents the distribution of edges\"\"\"\n",
    "    plot_df = edges_w_features.groupby([\"gender_x\", \"gender_y\", \"AGE_x\", \"AGE_y\"]).agg(\n",
    "        {\"smaller_id\": \"count\"}\n",
    "    )\n",
    "    \n",
    "    #only the f-m edges\n",
    "    plot_df_f_m = plot_df.loc[(1, 0)].reset_index()\n",
    "    plot_df_heatmap = plot_df_f_m.pivot_table(\n",
    "        index=\"AGE_x\", columns=\"AGE_y\", values=\"smaller_id\"\n",
    "    ).fillna(0)\n",
    "    plot_df_heatmap_logged = np.log(plot_df_heatmap + 1)\n",
    "    sns.heatmap(plot_df_heatmap_logged)"
   ]
  },
  {
   "cell_type": "code",
   "execution_count": 24,
   "metadata": {},
   "outputs": [],
   "source": [
    "def plot_age_relations_heatmap_all(edges_w_features):\n",
    "    \"\"\"Plot a heatmap that represents the distribution of edges\"\"\"\n",
    "    plot_df = edges_w_features.groupby([\"gender_x\", \"gender_y\", \"AGE_x\", \"AGE_y\"]).agg(\n",
    "        {\"smaller_id\": \"count\"}\n",
    "    )\n",
    "    #no selection criteria based on gender\n",
    "    plot_df_heatmap = plot_df.pivot_table(\n",
    "        index=\"AGE_x\", columns=\"AGE_y\", values=\"smaller_id\"\n",
    "    ).fillna(0)\n",
    "    plot_df_heatmap_logged = np.log(plot_df_heatmap + 1)\n",
    "    sns.heatmap(plot_df_heatmap_logged)"
   ]
  },
  {
   "cell_type": "markdown",
   "metadata": {},
   "source": [
    " ### Strength of social tie ALL"
   ]
  },
  {
   "cell_type": "markdown",
   "metadata": {},
   "source": [
    "XY-axis: age of users with specific gender. \n",
    "The spectrum color represents the number of connections"
   ]
  },
  {
   "cell_type": "code",
   "execution_count": 25,
   "metadata": {},
   "outputs": [
    {
     "data": {
      "text/plain": [
       "Text(33.0, 0.5, 'Age')"
      ]
     },
     "execution_count": 25,
     "metadata": {},
     "output_type": "execute_result"
    },
    {
     "data": {
      "image/png": "[encoded data removed]",
      "text/plain": [
       "<Figure size 432x288 with 2 Axes>"
      ]
     },
     "metadata": {
      "needs_background": "light"
     },
     "output_type": "display_data"
    }
   ],
   "source": [
    "edges_w_features = add_node_features_to_edges(nodes, edges)\n",
    "plot_age_relations_heatmap_all(edges_w_features)\n",
    "plt.xlabel(\"Age\")\n",
    "plt.ylabel(\"Age\")"
   ]
  },
  {
   "cell_type": "markdown",
   "metadata": {
    "tags": []
   },
   "source": [
    " ### Strength of social tie F-F"
   ]
  },
  {
   "cell_type": "code",
   "execution_count": 26,
   "metadata": {},
   "outputs": [
    {
     "data": {
      "text/plain": [
       "Text(33.0, 0.5, 'Age - F')"
      ]
     },
     "execution_count": 26,
     "metadata": {},
     "output_type": "execute_result"
    },
    {
     "data": {
      "image/png": "[encoded data removed]",
      "text/plain": [
       "<Figure size 432x288 with 2 Axes>"
      ]
     },
     "metadata": {
      "needs_background": "light"
     },
     "output_type": "display_data"
    }
   ],
   "source": [
    "plot_age_relations_heatmap_ff(edges_w_features)\n",
    "plt.xlabel(\"Age - F\")\n",
    "plt.ylabel(\"Age - F\")"
   ]
  },
  {
   "cell_type": "markdown",
   "metadata": {},
   "source": [
    " ### Strength of social tie M-M"
   ]
  },
  {
   "cell_type": "code",
   "execution_count": 27,
   "metadata": {},
   "outputs": [
    {
     "data": {
      "text/plain": [
       "Text(33.0, 0.5, 'Age - M')"
      ]
     },
     "execution_count": 27,
     "metadata": {},
     "output_type": "execute_result"
    },
    {
     "data": {
      "image/png": "[encoded data removed]",
      "text/plain": [
       "<Figure size 432x288 with 2 Axes>"
      ]
     },
     "metadata": {
      "needs_background": "light"
     },
     "output_type": "display_data"
    }
   ],
   "source": [
    "plot_age_relations_heatmap_mm(edges_w_features)\n",
    "plt.xlabel(\"Age - M\")\n",
    "plt.ylabel(\"Age - M\")"
   ]
  },
  {
   "cell_type": "markdown",
   "metadata": {},
   "source": [
    " ### Strength of social tie F-M"
   ]
  },
  {
   "cell_type": "code",
   "execution_count": 28,
   "metadata": {},
   "outputs": [
    {
     "data": {
      "text/plain": [
       "Text(33.0, 0.5, 'Age - M')"
      ]
     },
     "execution_count": 28,
     "metadata": {},
     "output_type": "execute_result"
    },
    {
     "data": {
      "image/png": "[encoded data removed]",
      "text/plain": [
       "<Figure size 432x288 with 2 Axes>"
      ]
     },
     "metadata": {
      "needs_background": "light"
     },
     "output_type": "display_data"
    }
   ],
   "source": [
    "plot_age_relations_heatmap_fm(edges_w_features)\n",
    "plt.xlabel(\"Age - F\")\n",
    "plt.ylabel(\"Age - M\")"
   ]
  },
  {
   "cell_type": "markdown",
   "metadata": {},
   "source": [
    "## without logging"
   ]
  },
  {
   "cell_type": "code",
   "execution_count": 29,
   "metadata": {},
   "outputs": [],
   "source": [
    "def plot_age_relations_heatmap_all_no_log(edges_w_features):\n",
    "    \"\"\"Plot a heatmap that represents the distribution of edges\"\"\"\n",
    "    plot_df = edges_w_features.groupby([\"gender_x\", \"gender_y\", \"AGE_x\", \"AGE_y\"]).agg(\n",
    "        {\"smaller_id\": \"count\"}\n",
    "    )\n",
    "    #no selection criteria based on gender\n",
    "    plot_df_heatmap = plot_df.pivot_table(\n",
    "        index=\"AGE_x\", columns=\"AGE_y\", values=\"smaller_id\"\n",
    "    ).fillna(0)\n",
    "    sns.heatmap(plot_df_heatmap)"
   ]
  },
  {
   "cell_type": "code",
   "execution_count": 30,
   "metadata": {},
   "outputs": [
    {
     "data": {
      "text/plain": [
       "Text(33.0, 0.5, 'Age')"
      ]
     },
     "execution_count": 30,
     "metadata": {},
     "output_type": "execute_result"
    },
    {
     "data": {
      "image/png": "[encoded data removed]",
      "text/plain": [
       "<Figure size 432x288 with 2 Axes>"
      ]
     },
     "metadata": {
      "needs_background": "light"
     },
     "output_type": "display_data"
    }
   ],
   "source": [
    "plot_age_relations_heatmap_all_no_log(edges_w_features)\n",
    "plt.xlabel(\"Age\")\n",
    "plt.ylabel(\"Age\")"
   ]
  },
  {
   "cell_type": "markdown",
   "metadata": {},
   "source": [
    "Amennyiben nem logolunk, úgy csak a nagyon nagy kontrasztokat fogjuk látni, azt, hogy az átlóban fiatalkorban nagyon nagyszámú kapcsolat van a saját korosztállyal, azonban más információt nem tudunk leolvasni csak azt, hogy ehhez képest relatíve minden más korosztálynak minden korosztállyal kevés a kapcsolata"
   ]
  },
  {
   "cell_type": "markdown",
   "metadata": {},
   "source": [
    "# Estimation of gender on the test set"
   ]
  },
  {
   "cell_type": "code",
   "execution_count": 31,
   "metadata": {},
   "outputs": [
    {
     "data": {
      "text/html": [
       "<div>\n",
       "<style scoped>\n",
       "    .dataframe tbody tr th:only-of-type {\n",
       "        vertical-align: middle;\n",
       "    }\n",
       "\n",
       "    .dataframe tbody tr th {\n",
       "        vertical-align: top;\n",
       "    }\n",
       "\n",
       "    .dataframe thead th {\n",
       "        text-align: right;\n",
       "    }\n",
       "</style>\n",
       "<table border=\"1\" class=\"dataframe\">\n",
       "  <thead>\n",
       "    <tr style=\"text-align: right;\">\n",
       "      <th></th>\n",
       "      <th>public</th>\n",
       "      <th>gender</th>\n",
       "      <th>region</th>\n",
       "      <th>AGE</th>\n",
       "      <th>TRAIN_TEST</th>\n",
       "      <th>0</th>\n",
       "      <th>nb_conn</th>\n",
       "      <th>cc</th>\n",
       "    </tr>\n",
       "    <tr>\n",
       "      <th>user_id</th>\n",
       "      <th></th>\n",
       "      <th></th>\n",
       "      <th></th>\n",
       "      <th></th>\n",
       "      <th></th>\n",
       "      <th></th>\n",
       "      <th></th>\n",
       "      <th></th>\n",
       "    </tr>\n",
       "  </thead>\n",
       "  <tbody>\n",
       "    <tr>\n",
       "      <th>1</th>\n",
       "      <td>1</td>\n",
       "      <td>NaN</td>\n",
       "      <td>zilinsky kraj, zilina</td>\n",
       "      <td>NaN</td>\n",
       "      <td>TEST</td>\n",
       "      <td>6</td>\n",
       "      <td>13.500000</td>\n",
       "      <td>0.000000</td>\n",
       "    </tr>\n",
       "    <tr>\n",
       "      <th>4</th>\n",
       "      <td>1</td>\n",
       "      <td>0.0</td>\n",
       "      <td>banskobystricky kraj, brezno</td>\n",
       "      <td>26.0</td>\n",
       "      <td>TRAIN</td>\n",
       "      <td>1</td>\n",
       "      <td>6.000000</td>\n",
       "      <td>0.000000</td>\n",
       "    </tr>\n",
       "    <tr>\n",
       "      <th>17</th>\n",
       "      <td>1</td>\n",
       "      <td>NaN</td>\n",
       "      <td>zilinsky kraj, martin</td>\n",
       "      <td>NaN</td>\n",
       "      <td>TEST</td>\n",
       "      <td>4</td>\n",
       "      <td>11.000000</td>\n",
       "      <td>0.166667</td>\n",
       "    </tr>\n",
       "    <tr>\n",
       "      <th>5</th>\n",
       "      <td>1</td>\n",
       "      <td>1.0</td>\n",
       "      <td>zilinsky kraj, zilina</td>\n",
       "      <td>26.0</td>\n",
       "      <td>TRAIN</td>\n",
       "      <td>7</td>\n",
       "      <td>12.285714</td>\n",
       "      <td>0.190476</td>\n",
       "    </tr>\n",
       "    <tr>\n",
       "      <th>18</th>\n",
       "      <td>1</td>\n",
       "      <td>NaN</td>\n",
       "      <td>zilinsky kraj, kysucke nove mesto</td>\n",
       "      <td>NaN</td>\n",
       "      <td>TEST</td>\n",
       "      <td>13</td>\n",
       "      <td>24.230769</td>\n",
       "      <td>0.192308</td>\n",
       "    </tr>\n",
       "    <tr>\n",
       "      <th>...</th>\n",
       "      <td>...</td>\n",
       "      <td>...</td>\n",
       "      <td>...</td>\n",
       "      <td>...</td>\n",
       "      <td>...</td>\n",
       "      <td>...</td>\n",
       "      <td>...</td>\n",
       "      <td>...</td>\n",
       "    </tr>\n",
       "    <tr>\n",
       "      <th>1632779</th>\n",
       "      <td>1</td>\n",
       "      <td>NaN</td>\n",
       "      <td>trenciansky kraj, myjava</td>\n",
       "      <td>NaN</td>\n",
       "      <td>TEST</td>\n",
       "      <td>1</td>\n",
       "      <td>1.000000</td>\n",
       "      <td>0.000000</td>\n",
       "    </tr>\n",
       "    <tr>\n",
       "      <th>1632782</th>\n",
       "      <td>1</td>\n",
       "      <td>NaN</td>\n",
       "      <td>bratislavsky kraj, bratislava - nove mesto</td>\n",
       "      <td>NaN</td>\n",
       "      <td>TEST</td>\n",
       "      <td>1</td>\n",
       "      <td>2.000000</td>\n",
       "      <td>0.000000</td>\n",
       "    </tr>\n",
       "    <tr>\n",
       "      <th>1632783</th>\n",
       "      <td>1</td>\n",
       "      <td>NaN</td>\n",
       "      <td>trenciansky kraj, povazska bystrica</td>\n",
       "      <td>NaN</td>\n",
       "      <td>TEST</td>\n",
       "      <td>1</td>\n",
       "      <td>1.000000</td>\n",
       "      <td>0.000000</td>\n",
       "    </tr>\n",
       "    <tr>\n",
       "      <th>1632785</th>\n",
       "      <td>1</td>\n",
       "      <td>NaN</td>\n",
       "      <td>trenciansky kraj, povazska bystrica</td>\n",
       "      <td>NaN</td>\n",
       "      <td>TEST</td>\n",
       "      <td>1</td>\n",
       "      <td>1.000000</td>\n",
       "      <td>0.000000</td>\n",
       "    </tr>\n",
       "    <tr>\n",
       "      <th>1632792</th>\n",
       "      <td>1</td>\n",
       "      <td>NaN</td>\n",
       "      <td>trenciansky kraj, bojnice</td>\n",
       "      <td>NaN</td>\n",
       "      <td>TEST</td>\n",
       "      <td>1</td>\n",
       "      <td>1.000000</td>\n",
       "      <td>0.000000</td>\n",
       "    </tr>\n",
       "  </tbody>\n",
       "</table>\n",
       "<p>434590 rows × 8 columns</p>\n",
       "</div>"
      ],
      "text/plain": [
       "         public  gender                                      region   AGE  \\\n",
       "user_id                                                                     \n",
       "1             1     NaN                       zilinsky kraj, zilina   NaN   \n",
       "4             1     0.0                banskobystricky kraj, brezno  26.0   \n",
       "17            1     NaN                       zilinsky kraj, martin   NaN   \n",
       "5             1     1.0                       zilinsky kraj, zilina  26.0   \n",
       "18            1     NaN           zilinsky kraj, kysucke nove mesto   NaN   \n",
       "...         ...     ...                                         ...   ...   \n",
       "1632779       1     NaN                    trenciansky kraj, myjava   NaN   \n",
       "1632782       1     NaN  bratislavsky kraj, bratislava - nove mesto   NaN   \n",
       "1632783       1     NaN         trenciansky kraj, povazska bystrica   NaN   \n",
       "1632785       1     NaN         trenciansky kraj, povazska bystrica   NaN   \n",
       "1632792       1     NaN                   trenciansky kraj, bojnice   NaN   \n",
       "\n",
       "        TRAIN_TEST   0    nb_conn        cc  \n",
       "user_id                                      \n",
       "1             TEST   6  13.500000  0.000000  \n",
       "4            TRAIN   1   6.000000  0.000000  \n",
       "17            TEST   4  11.000000  0.166667  \n",
       "5            TRAIN   7  12.285714  0.190476  \n",
       "18            TEST  13  24.230769  0.192308  \n",
       "...            ...  ..        ...       ...  \n",
       "1632779       TEST   1   1.000000  0.000000  \n",
       "1632782       TEST   1   2.000000  0.000000  \n",
       "1632783       TEST   1   1.000000  0.000000  \n",
       "1632785       TEST   1   1.000000  0.000000  \n",
       "1632792       TEST   1   1.000000  0.000000  \n",
       "\n",
       "[434590 rows x 8 columns]"
      ]
     },
     "execution_count": 31,
     "metadata": {},
     "output_type": "execute_result"
    }
   ],
   "source": [
    "#ez a nagy adatbazis\n",
    "nodes_w_degree2"
   ]
  },
  {
   "cell_type": "code",
   "execution_count": 32,
   "metadata": {},
   "outputs": [],
   "source": [
    "#levalasztjuk a test adatokat es a train adatokat\n",
    "testdf = nodes_w_degree2.loc[nodes_w_degree2['TRAIN_TEST'] == 'TEST']\n",
    "traindf = nodes_w_degree2.loc[nodes_w_degree2['TRAIN_TEST'] == 'TRAIN']"
   ]
  },
  {
   "cell_type": "code",
   "execution_count": 33,
   "metadata": {},
   "outputs": [],
   "source": [
    "#levagjuk ami nem kell\n",
    "testdf = testdf.drop(testdf.columns[5], axis = 1)\n",
    "testdf = testdf.drop(['public', 'region', 'nb_conn', 'cc' ], axis=1)\n",
    "traindf = traindf.drop(traindf.columns[5], axis = 1)\n",
    "traindf = traindf.drop(['public', 'region', 'nb_conn', 'cc' ], axis=1)"
   ]
  },
  {
   "cell_type": "code",
   "execution_count": 34,
   "metadata": {},
   "outputs": [
    {
     "data": {
      "text/plain": [
       "1.0    89930\n",
       "0.0    80449\n",
       "Name: gender, dtype: int64"
      ]
     },
     "execution_count": 34,
     "metadata": {},
     "output_type": "execute_result"
    }
   ],
   "source": [
    "#melyik nemből van több a train adatbézisban (az lesz egyenlőség esetén a predikció)\n",
    "traindf['gender'].value_counts()"
   ]
  },
  {
   "cell_type": "code",
   "execution_count": 35,
   "metadata": {},
   "outputs": [],
   "source": [
    "#csinalunk egy predikciokat tartlmazo df-et is\n",
    "preddf = testdf.drop(['gender', 'AGE', 'TRAIN_TEST'], axis = 1)\n",
    "preddf['gender'] = 0"
   ]
  },
  {
   "cell_type": "code",
   "execution_count": 36,
   "metadata": {},
   "outputs": [
    {
     "data": {
      "text/html": [
       "<div>\n",
       "<style scoped>\n",
       "    .dataframe tbody tr th:only-of-type {\n",
       "        vertical-align: middle;\n",
       "    }\n",
       "\n",
       "    .dataframe tbody tr th {\n",
       "        vertical-align: top;\n",
       "    }\n",
       "\n",
       "    .dataframe thead th {\n",
       "        text-align: right;\n",
       "    }\n",
       "</style>\n",
       "<table border=\"1\" class=\"dataframe\">\n",
       "  <thead>\n",
       "    <tr style=\"text-align: right;\">\n",
       "      <th></th>\n",
       "      <th>gender</th>\n",
       "      <th>AGE</th>\n",
       "      <th>TRAIN_TEST</th>\n",
       "    </tr>\n",
       "    <tr>\n",
       "      <th>user_id</th>\n",
       "      <th></th>\n",
       "      <th></th>\n",
       "      <th></th>\n",
       "    </tr>\n",
       "  </thead>\n",
       "  <tbody>\n",
       "    <tr>\n",
       "      <th>4</th>\n",
       "      <td>0.0</td>\n",
       "      <td>26.0</td>\n",
       "      <td>TRAIN</td>\n",
       "    </tr>\n",
       "    <tr>\n",
       "      <th>5</th>\n",
       "      <td>1.0</td>\n",
       "      <td>26.0</td>\n",
       "      <td>TRAIN</td>\n",
       "    </tr>\n",
       "    <tr>\n",
       "      <th>31</th>\n",
       "      <td>1.0</td>\n",
       "      <td>24.0</td>\n",
       "      <td>TRAIN</td>\n",
       "    </tr>\n",
       "    <tr>\n",
       "      <th>7</th>\n",
       "      <td>0.0</td>\n",
       "      <td>22.0</td>\n",
       "      <td>TRAIN</td>\n",
       "    </tr>\n",
       "    <tr>\n",
       "      <th>10</th>\n",
       "      <td>0.0</td>\n",
       "      <td>22.0</td>\n",
       "      <td>TRAIN</td>\n",
       "    </tr>\n",
       "    <tr>\n",
       "      <th>...</th>\n",
       "      <td>...</td>\n",
       "      <td>...</td>\n",
       "      <td>...</td>\n",
       "    </tr>\n",
       "    <tr>\n",
       "      <th>1632664</th>\n",
       "      <td>0.0</td>\n",
       "      <td>28.0</td>\n",
       "      <td>TRAIN</td>\n",
       "    </tr>\n",
       "    <tr>\n",
       "      <th>1632683</th>\n",
       "      <td>1.0</td>\n",
       "      <td>43.0</td>\n",
       "      <td>TRAIN</td>\n",
       "    </tr>\n",
       "    <tr>\n",
       "      <th>1632724</th>\n",
       "      <td>1.0</td>\n",
       "      <td>34.0</td>\n",
       "      <td>TRAIN</td>\n",
       "    </tr>\n",
       "    <tr>\n",
       "      <th>1632745</th>\n",
       "      <td>0.0</td>\n",
       "      <td>50.0</td>\n",
       "      <td>TRAIN</td>\n",
       "    </tr>\n",
       "    <tr>\n",
       "      <th>1632753</th>\n",
       "      <td>0.0</td>\n",
       "      <td>37.0</td>\n",
       "      <td>TRAIN</td>\n",
       "    </tr>\n",
       "  </tbody>\n",
       "</table>\n",
       "<p>170379 rows × 3 columns</p>\n",
       "</div>"
      ],
      "text/plain": [
       "         gender   AGE TRAIN_TEST\n",
       "user_id                         \n",
       "4           0.0  26.0      TRAIN\n",
       "5           1.0  26.0      TRAIN\n",
       "31          1.0  24.0      TRAIN\n",
       "7           0.0  22.0      TRAIN\n",
       "10          0.0  22.0      TRAIN\n",
       "...         ...   ...        ...\n",
       "1632664     0.0  28.0      TRAIN\n",
       "1632683     1.0  43.0      TRAIN\n",
       "1632724     1.0  34.0      TRAIN\n",
       "1632745     0.0  50.0      TRAIN\n",
       "1632753     0.0  37.0      TRAIN\n",
       "\n",
       "[170379 rows x 3 columns]"
      ]
     },
     "execution_count": 36,
     "metadata": {},
     "output_type": "execute_result"
    }
   ],
   "source": [
    "traindf"
   ]
  },
  {
   "cell_type": "code",
   "execution_count": 37,
   "metadata": {},
   "outputs": [],
   "source": [
    "#Andras fuggvenye, ami listaba szedi az ismerosoket\n",
    "def get_nbrs_for_node(node_id, G):\n",
    "    \"\"\"Return ids of nbrs of node\"\"\"\n",
    "    return list(dict(G[node_id]).keys())"
   ]
  },
  {
   "cell_type": "code",
   "execution_count": 38,
   "metadata": {},
   "outputs": [],
   "source": [
    "#nézzünk egy példát : 80-as id-val rendelkező illető a testdf-ből, meghatérozzuk a szomszédait, listába tesszük őket\n",
    "nlist = get_nbrs_for_node(80, G)\n",
    "#ez alapján leszűrjük a traindf-et a szomszédaira\n",
    "ndf  = traindf[traindf.index.isin(nlist)]\n",
    "#baratok szama\n",
    "friends = ndf['gender'].count()\n",
    "#fiu baratok szama\n",
    "mfriends = ndf['gender'].sum()\n",
    "#amennyiben a baratai fele vagy annal tobb a fiu, akkor azt mondjuk hogy fiu, egyebkent marad a 0 (vagyis lany)\n",
    "if friends/2 <= mfriends:\n",
    "    preddf.gender[80] = 1"
   ]
  },
  {
   "cell_type": "code",
   "execution_count": 39,
   "metadata": {},
   "outputs": [
    {
     "name": "stderr",
     "output_type": "stream",
     "text": [
      "100%|█████████████████████████████████████████████████████████████████████████| 264211/264211 [11:39<00:00, 377.55it/s]\n"
     ]
    }
   ],
   "source": [
    "#most mehet iteralva\n",
    "#1. kik vannak a test set-ben (indexek)\n",
    "test_indexes = testdf.index.tolist()\n",
    "#2. loop\n",
    "for index in tqdm(test_indexes):\n",
    "    nlist = get_nbrs_for_node(index, G)\n",
    "    ndf  = traindf[traindf.index.isin(nlist)]\n",
    "    friends = ndf['gender'].count()\n",
    "    mfriends = ndf['gender'].sum()\n",
    "    \n",
    "    if friends/2 <= mfriends:\n",
    "        preddf.gender[index] = 1"
   ]
  },
  {
   "cell_type": "code",
   "execution_count": 40,
   "metadata": {},
   "outputs": [
    {
     "data": {
      "text/html": [
       "<div>\n",
       "<style scoped>\n",
       "    .dataframe tbody tr th:only-of-type {\n",
       "        vertical-align: middle;\n",
       "    }\n",
       "\n",
       "    .dataframe tbody tr th {\n",
       "        vertical-align: top;\n",
       "    }\n",
       "\n",
       "    .dataframe thead th {\n",
       "        text-align: right;\n",
       "    }\n",
       "</style>\n",
       "<table border=\"1\" class=\"dataframe\">\n",
       "  <thead>\n",
       "    <tr style=\"text-align: right;\">\n",
       "      <th></th>\n",
       "      <th>gender</th>\n",
       "    </tr>\n",
       "    <tr>\n",
       "      <th>user_id</th>\n",
       "      <th></th>\n",
       "    </tr>\n",
       "  </thead>\n",
       "  <tbody>\n",
       "    <tr>\n",
       "      <th>1</th>\n",
       "      <td>0</td>\n",
       "    </tr>\n",
       "    <tr>\n",
       "      <th>17</th>\n",
       "      <td>1</td>\n",
       "    </tr>\n",
       "    <tr>\n",
       "      <th>18</th>\n",
       "      <td>1</td>\n",
       "    </tr>\n",
       "    <tr>\n",
       "      <th>19</th>\n",
       "      <td>0</td>\n",
       "    </tr>\n",
       "    <tr>\n",
       "      <th>32</th>\n",
       "      <td>1</td>\n",
       "    </tr>\n",
       "    <tr>\n",
       "      <th>...</th>\n",
       "      <td>...</td>\n",
       "    </tr>\n",
       "    <tr>\n",
       "      <th>1632779</th>\n",
       "      <td>1</td>\n",
       "    </tr>\n",
       "    <tr>\n",
       "      <th>1632782</th>\n",
       "      <td>1</td>\n",
       "    </tr>\n",
       "    <tr>\n",
       "      <th>1632783</th>\n",
       "      <td>1</td>\n",
       "    </tr>\n",
       "    <tr>\n",
       "      <th>1632785</th>\n",
       "      <td>1</td>\n",
       "    </tr>\n",
       "    <tr>\n",
       "      <th>1632792</th>\n",
       "      <td>1</td>\n",
       "    </tr>\n",
       "  </tbody>\n",
       "</table>\n",
       "<p>264211 rows × 1 columns</p>\n",
       "</div>"
      ],
      "text/plain": [
       "         gender\n",
       "user_id        \n",
       "1             0\n",
       "17            1\n",
       "18            1\n",
       "19            0\n",
       "32            1\n",
       "...         ...\n",
       "1632779       1\n",
       "1632782       1\n",
       "1632783       1\n",
       "1632785       1\n",
       "1632792       1\n",
       "\n",
       "[264211 rows x 1 columns]"
      ]
     },
     "execution_count": 40,
     "metadata": {},
     "output_type": "execute_result"
    }
   ],
   "source": [
    "preddf"
   ]
  }
 ],
 "metadata": {
  "kernelspec": {
   "display_name": "Python 3 (ipykernel)",
   "language": "python",
   "name": "python3"
  },
  "language_info": {
   "codemirror_mode": {
    "name": "ipython",
    "version": 3
   },
   "file_extension": ".py",
   "mimetype": "text/x-python",
   "name": "python",
   "nbconvert_exporter": "python",
   "pygments_lexer": "ipython3",
   "version": "3.10.1"
  }
 },
 "nbformat": 4,
 "nbformat_minor": 4
}
